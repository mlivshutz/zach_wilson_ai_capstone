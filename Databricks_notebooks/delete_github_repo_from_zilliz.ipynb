{
 "cells": [
  {
   "cell_type": "code",
   "execution_count": 0,
   "metadata": {
    "application/vnd.databricks.v1+cell": {
     "cellMetadata": {
      "byteLimit": 2048000,
      "rowLimit": 10000
     },
     "inputWidgets": {},
     "nuid": "88597347-55ff-45b4-ad93-ec5af2ae1b36",
     "showTitle": false,
     "tableResultSettingsMap": {},
     "title": ""
    },
    "jupyter": {
     "outputs_hidden": true
    }
   },
   "outputs": [],
   "source": [
    "%pip install openai\n",
    "%pip install aiohttp\n",
    "%pip install pymilvus\n",
    "%pip install PyGithub\n",
    "%pip install mmh3"
   ]
  },
  {
   "cell_type": "code",
   "execution_count": 0,
   "metadata": {
    "application/vnd.databricks.v1+cell": {
     "cellMetadata": {
      "byteLimit": 2048000,
      "rowLimit": 10000
     },
     "inputWidgets": {},
     "nuid": "3c97ae5e-a2c9-4cf6-8ff4-58d37a775005",
     "showTitle": false,
     "tableResultSettingsMap": {},
     "title": ""
    }
   },
   "outputs": [],
   "source": [
    "%restart_python"
   ]
  },
  {
   "cell_type": "code",
   "execution_count": 0,
   "metadata": {
    "application/vnd.databricks.v1+cell": {
     "cellMetadata": {
      "byteLimit": 2048000,
      "rowLimit": 10000
     },
     "inputWidgets": {},
     "nuid": "3495bb7e-9a0a-4dae-a246-0815bb3d5f1f",
     "showTitle": false,
     "tableResultSettingsMap": {},
     "title": ""
    }
   },
   "outputs": [],
   "source": [
    "import openai\n",
    "from pymilvus import connections, Collection, FieldSchema, CollectionSchema, DataType, utility\n",
    "import numpy as np\n",
    "import logging\n",
    "import uuid\n",
    "import json\n",
    "import httpx\n",
    "import requests\n",
    "from github import Github\n",
    "import mmh3\n",
    "import datetime\n",
    "from typing import List\n",
    "from dotenv import load_dotenv\n",
    "import os"
   ]
  },
  {
   "cell_type": "code",
   "execution_count": 0,
   "metadata": {
    "application/vnd.databricks.v1+cell": {
     "cellMetadata": {
      "byteLimit": 2048000,
      "rowLimit": 10000
     },
     "inputWidgets": {},
     "nuid": "d7fbe941-7f39-48cf-9b7f-2571cda133f7",
     "showTitle": true,
     "tableResultSettingsMap": {},
     "title": "setup GitHub repo widget"
    }
   },
   "outputs": [],
   "source": [
    "dbutils.widgets.text(\"repo\", \"\", \"GitHub Repo\")\n",
    "repo = dbutils.widgets.get(\"repo\")"
   ]
  },
  {
   "cell_type": "code",
   "execution_count": 0,
   "metadata": {
    "application/vnd.databricks.v1+cell": {
     "cellMetadata": {
      "byteLimit": 2048000,
      "rowLimit": 10000
     },
     "inputWidgets": {},
     "nuid": "f4b3f7c3-151e-4977-9e6b-32edcb4d969f",
     "showTitle": false,
     "tableResultSettingsMap": {},
     "title": ""
    }
   },
   "outputs": [],
   "source": [
    "load_dotenv()\n",
    "OPENAI_API_KEY = os.getenv(\"OPENAI_API_KEY\")\n",
    "GITHUB_PAT = os.getenv('GITHUB_PAT')\n",
    "ZILLIZ_CLOUD_URI = os.getenv(\"ZILLIZ_CLOUD_URI\")\n",
    "ZILLIZ_API_KEY = os.getenv(\"ZILLIZ_API_KEY\")\n",
    "\n",
    "# OpenAI Model Configuration\n",
    "OPENAI_EMBEDDING_MODEL = \"text-embedding-3-small\"\n",
    "OPENAI_CHAT_MODEL = \"gpt-4.1-mini\"\n",
    "EMBEDDING_DIMENSION = 1536"
   ]
  },
  {
   "cell_type": "code",
   "execution_count": 0,
   "metadata": {
    "application/vnd.databricks.v1+cell": {
     "cellMetadata": {
      "byteLimit": 2048000,
      "rowLimit": 10000
     },
     "inputWidgets": {},
     "nuid": "a33d92a7-b68b-484e-b0fe-d73a6c861d74",
     "showTitle": false,
     "tableResultSettingsMap": {},
     "title": ""
    }
   },
   "outputs": [],
   "source": []
  },
  {
   "cell_type": "code",
   "execution_count": 0,
   "metadata": {
    "application/vnd.databricks.v1+cell": {
     "cellMetadata": {
      "byteLimit": 2048000,
      "rowLimit": 10000
     },
     "inputWidgets": {},
     "nuid": "24abb1e4-1bcc-4909-80f8-f4a6017f4fd8",
     "showTitle": false,
     "tableResultSettingsMap": {},
     "title": ""
    }
   },
   "outputs": [],
   "source": [
    "MILVUS_COLLECTION_NAME = \"github_dense_index\"\n",
    "MILVUS_GITHUB_SPARSE_COLLECTION=\"github_sparse_index\"\n",
    "\n",
    "# Global variables\n",
    "collection = None\n",
    "collection_github_sparse = None\n"
   ]
  },
  {
   "cell_type": "code",
   "execution_count": 0,
   "metadata": {
    "application/vnd.databricks.v1+cell": {
     "cellMetadata": {
      "byteLimit": 2048000,
      "rowLimit": 10000
     },
     "inputWidgets": {},
     "nuid": "152e219e-3e38-43f1-b48d-11f622d8b889",
     "showTitle": false,
     "tableResultSettingsMap": {},
     "title": ""
    }
   },
   "outputs": [],
   "source": [
    "def get_openai_client():\n",
    "    \"\"\"Get OpenAI client with error handling\"\"\"\n",
    "    if client is None:\n",
    "        raise Exception(\"OpenAI API key not configured\")\n",
    "    return client\n"
   ]
  },
  {
   "cell_type": "code",
   "execution_count": 0,
   "metadata": {
    "application/vnd.databricks.v1+cell": {
     "cellMetadata": {
      "byteLimit": 2048000,
      "rowLimit": 10000
     },
     "inputWidgets": {},
     "nuid": "29d97a5e-f2a5-455b-9038-8b29ca205d0a",
     "showTitle": false,
     "tableResultSettingsMap": {},
     "title": ""
    }
   },
   "outputs": [],
   "source": [
    "# Milvus setup\n",
    "def connect_github_dense_collection(collection_name: str):\n",
    "    \"\"\"Connect to a dense vector index collection.\"\"\"\n",
    "\n",
    "    # Check if collection exists\n",
    "    if utility.has_collection(collection_name):\n",
    "        collection = Collection(collection_name)\n",
    "        print(f\"Connected to existing collection: {collection_name}\")\n",
    "        return collection\n",
    "    else:\n",
    "        collection = None\n",
    "        print(f\"Did not find collection in Zilliz: {collection_name}\")\n",
    "    \n",
    "    print(f\"Created new collection: {collection_name}\")\n",
    "    return collection"
   ]
  },
  {
   "cell_type": "code",
   "execution_count": 0,
   "metadata": {
    "application/vnd.databricks.v1+cell": {
     "cellMetadata": {
      "byteLimit": 2048000,
      "rowLimit": 10000
     },
     "inputWidgets": {},
     "nuid": "0a69e8c4-942a-4f2d-be18-599b6b2006a5",
     "showTitle": false,
     "tableResultSettingsMap": {},
     "title": ""
    }
   },
   "outputs": [],
   "source": [
    "def connect_github_sparse_collection(collection_name: str):\n",
    "    \"\"\"Connect to a sparse collection (BM25-like).\"\"\"\n",
    "\n",
    "    if utility.has_collection(collection_name):\n",
    "        col = Collection(collection_name)\n",
    "        print(f\"Connected to existing sparse collection: {collection_name}\")\n",
    "    else:\n",
    "        col = None\n",
    "        print(f\"Did not find sparse collection in Zilliz: {collection_name}\")\n",
    "    return col\n"
   ]
  },
  {
   "cell_type": "code",
   "execution_count": 0,
   "metadata": {
    "application/vnd.databricks.v1+cell": {
     "cellMetadata": {
      "byteLimit": 2048000,
      "rowLimit": 10000
     },
     "inputWidgets": {},
     "nuid": "c22e611a-5d6b-4217-84bc-53c6002ce9f4",
     "showTitle": false,
     "tableResultSettingsMap": {},
     "title": ""
    }
   },
   "outputs": [],
   "source": [
    "if OPENAI_API_KEY:\n",
    "    openai.api_key = OPENAI_API_KEY\n",
    "    # Explicitly create an httpx client without proxies\n",
    "    async_http_client = httpx.AsyncClient()\n",
    "    # async_http_client = httpx.AsyncClient(proxies=None)\n",
    "    client = openai.AsyncOpenAI(api_key=OPENAI_API_KEY, http_client=async_http_client)\n",
    "else:\n",
    "    client = None"
   ]
  },
  {
   "cell_type": "code",
   "execution_count": 0,
   "metadata": {
    "application/vnd.databricks.v1+cell": {
     "cellMetadata": {
      "byteLimit": 2048000,
      "rowLimit": 10000
     },
     "inputWidgets": {},
     "nuid": "36c21ca1-260a-456b-a22d-a3fe4e4b237e",
     "showTitle": false,
     "tableResultSettingsMap": {},
     "title": ""
    }
   },
   "outputs": [],
   "source": [
    "connections.connect(\n",
    "    alias=\"default\",\n",
    "    uri=ZILLIZ_CLOUD_URI,\n",
    "    token=ZILLIZ_API_KEY,\n",
    "    secure=True\n",
    ")\n",
    "print(\"Successfully connected to Zilliz Cloud!\")"
   ]
  },
  {
   "cell_type": "code",
   "execution_count": 0,
   "metadata": {
    "application/vnd.databricks.v1+cell": {
     "cellMetadata": {
      "byteLimit": 2048000,
      "rowLimit": 10000
     },
     "inputWidgets": {},
     "nuid": "0c471efd-803f-45f9-8e89-480b2fb78dcc",
     "showTitle": false,
     "tableResultSettingsMap": {},
     "title": ""
    }
   },
   "outputs": [],
   "source": [
    "collection = connect_github_dense_collection(MILVUS_COLLECTION_NAME)"
   ]
  },
  {
   "cell_type": "code",
   "execution_count": 0,
   "metadata": {
    "application/vnd.databricks.v1+cell": {
     "cellMetadata": {
      "byteLimit": 2048000,
      "rowLimit": 10000
     },
     "inputWidgets": {},
     "nuid": "d26d61fe-f347-4dfc-a06e-01283c6e3057",
     "showTitle": false,
     "tableResultSettingsMap": {},
     "title": ""
    }
   },
   "outputs": [],
   "source": [
    "collection_github_sparse = connect_github_sparse_collection(MILVUS_GITHUB_SPARSE_COLLECTION)"
   ]
  },
  {
   "cell_type": "code",
   "execution_count": 0,
   "metadata": {
    "application/vnd.databricks.v1+cell": {
     "cellMetadata": {
      "byteLimit": 2048000,
      "rowLimit": 10000
     },
     "inputWidgets": {},
     "nuid": "76bc65e6-4330-4f06-bc3e-a2acf5ad699d",
     "showTitle": false,
     "tableResultSettingsMap": {},
     "title": ""
    }
   },
   "outputs": [],
   "source": [
    "async def delete_github_repo(repo_name: str, collection=None, collection_github_sparse=None):\n",
    "    \"\"\"Delete all vector index entries for a given GitHub repo from both dense and sparse vector index collections in Zilliz.\"\"\"\n",
    "    if not repo_name or not '/' in repo_name:\n",
    "        raise Exception(f\"Invalid repo name format. Use 'owner/repo': {repo}\")\n",
    "\n",
    "    repo_name = repo_name.strip()\n",
    "    print(f\"Attempting to delete all entries for repo: {repo_name}\")\n",
    "\n",
    "    # Define the expression to match the repo\n",
    "    expr = f\"repo == '{repo_name}'\"\n",
    "\n",
    "    # Query to check if entries exist before deleting\n",
    "    dense_results = collection.query(expr, output_fields=[\"id\"])\n",
    "    sparse_results = collection_github_sparse.query(expr, output_fields=[\"id\"])\n",
    "\n",
    "    if not dense_results and not sparse_results:\n",
    "        print(f\"Repo '{repo_name}' not found in any vector index.\")\n",
    "        return None\n",
    "\n",
    "    total_deleted = 0\n",
    "    log_list = []\n",
    "    end_time = datetime.datetime.now().isoformat()\n",
    "    table_name = \"tabular.dataexpert.mlivshutz54984_vector_delete_log\"\n",
    "\n",
    "    # Delete from dense collection\n",
    "    if dense_results:\n",
    "        delete_result_dense = collection.delete(expr)\n",
    "        print(f\"Deleted from dense collection '{collection.name}': {delete_result_dense}\")\n",
    "        total_deleted += len(dense_results)\n",
    "        entry = {\n",
    "            \"files_deleted\": total_deleted,\n",
    "            \"vector_index_type\": \"dense\",\n",
    "            \"collection\": collection.name,\n",
    "            \"deleted_at\": end_time,\n",
    "            \"repo\": repo,\n",
    "        }\n",
    "        log_list.append(entry)\n",
    "\n",
    "    # Delete from sparse collection\n",
    "    if sparse_results:\n",
    "        delete_result_sparse = collection_github_sparse.delete(expr)\n",
    "        print(f\"Deleted from sparse collection '{collection_github_sparse.name}': {delete_result_sparse}\")\n",
    "        total_deleted += len(sparse_results)\n",
    "        entry = {\n",
    "            \"files_deleted\": total_deleted,\n",
    "            \"vector_index_type\": \"sparse\",\n",
    "            \"collection\": collection_github_sparse.name,\n",
    "            \"deleted_at\": end_time,\n",
    "            \"repo\": repo,\n",
    "        }\n",
    "        log_list.append(entry)\n",
    "    \n",
    "    # Persist the deletions\n",
    "    collection.flush()\n",
    "    collection_github_sparse.flush()\n",
    "\n",
    "    if len(log_list) > 0:\n",
    "        spark.createDataFrame(log_list).write.mode(\"append\").saveAsTable(table_name)\n",
    "        spark.sql(f\"alter table {table_name} set TBLPROPERTIES (delta.enableChangeDataFeed = true)\")\n",
    "\n",
    "    print(f\"Successfully deleted {total_deleted} entries for repo: {repo_name}\")\n",
    "    return {\"message\": f\"Successfully deleted {total_deleted} entries for repo '{repo_name}'.\", \"deleted_count\": total_deleted}\n",
    "\n"
   ]
  },
  {
   "cell_type": "code",
   "execution_count": 0,
   "metadata": {
    "application/vnd.databricks.v1+cell": {
     "cellMetadata": {
      "byteLimit": 2048000,
      "rowLimit": 10000
     },
     "inputWidgets": {},
     "nuid": "07a2a66b-31cb-43b2-9aa4-e562a3929363",
     "showTitle": false,
     "tableResultSettingsMap": {},
     "title": ""
    }
   },
   "outputs": [],
   "source": [
    "# Ingest GitHub repo\n",
    "await delete_github_repo(repo, collection, collection_github_sparse)\n"
   ]
  },
  {
   "cell_type": "code",
   "execution_count": 0,
   "metadata": {
    "application/vnd.databricks.v1+cell": {
     "cellMetadata": {
      "byteLimit": 2048000,
      "rowLimit": 10000
     },
     "inputWidgets": {},
     "nuid": "182900e3-c83c-40c0-9320-d4d158435707",
     "showTitle": false,
     "tableResultSettingsMap": {},
     "title": ""
    }
   },
   "outputs": [],
   "source": [
    "\n"
   ]
  }
 ],
 "metadata": {
  "application/vnd.databricks.v1+notebook": {
   "computePreferences": {
    "hardware": {
     "accelerator": null,
     "gpuPoolId": null,
     "memory": null
    }
   },
   "dashboards": [],
   "environmentMetadata": {
    "base_environment": "",
    "environment_version": "2"
   },
   "inputWidgetPreferences": null,
   "language": "python",
   "notebookMetadata": {
    "mostRecentlyExecutedCommandWithImplicitDF": {
     "commandId": 7640257831777985,
     "dataframes": [
      "_sqldf"
     ]
    },
    "pythonIndentUnit": 2
   },
   "notebookName": "delete_github_repo_from_zilliz",
   "widgets": {
    "repo": {
     "currentValue": "mlivshutz/GenAI-In-Production-Databricks-FEB",
     "nuid": "aa2fb48d-1f25-4473-93c6-3d2337c12a8f",
     "typedWidgetInfo": {
      "autoCreated": false,
      "defaultValue": "",
      "label": "GitHub Repo",
      "name": "repo",
      "options": {
       "widgetDisplayType": "Text",
       "validationRegex": null
      },
      "parameterDataType": "String"
     },
     "widgetInfo": {
      "widgetType": "text",
      "defaultValue": "",
      "label": "GitHub Repo",
      "name": "repo",
      "options": {
       "widgetType": "text",
       "autoCreated": null,
       "validationRegex": null
      }
     }
    }
   }
  },
  "language_info": {
   "name": "python"
  }
 },
 "nbformat": 4,
 "nbformat_minor": 0
}
