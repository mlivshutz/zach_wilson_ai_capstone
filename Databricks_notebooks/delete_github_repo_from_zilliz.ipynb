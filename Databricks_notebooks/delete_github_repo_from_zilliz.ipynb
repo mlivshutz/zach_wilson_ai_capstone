{
 "cells": [
  {
   "cell_type": "code",
   "execution_count": 0,
   "metadata": {
    "application/vnd.databricks.v1+cell": {
     "cellMetadata": {
      "byteLimit": 2048000,
      "rowLimit": 10000
     },
     "inputWidgets": {},
     "nuid": "88597347-55ff-45b4-ad93-ec5af2ae1b36",
     "showTitle": false,
     "tableResultSettingsMap": {},
     "title": ""
    },
    "jupyter": {
     "outputs_hidden": true
    }
   },
   "outputs": [
    {
     "name": "stdout",
     "output_type": "stream",
     "text": [
      "Requirement already satisfied: openai in /local_disk0/.ephemeral_nfs/envs/pythonEnv-4e891fe8-18c3-43a6-8f81-4f337c1629dd/lib/python3.11/site-packages (1.100.2)\n",
      "Requirement already satisfied: anyio<5,>=3.5.0 in /local_disk0/.ephemeral_nfs/envs/pythonEnv-4e891fe8-18c3-43a6-8f81-4f337c1629dd/lib/python3.11/site-packages (from openai) (4.10.0)\n",
      "Requirement already satisfied: distro<2,>=1.7.0 in /usr/lib/python3/dist-packages (from openai) (1.7.0)\n",
      "Requirement already satisfied: httpx<1,>=0.23.0 in /local_disk0/.ephemeral_nfs/envs/pythonEnv-4e891fe8-18c3-43a6-8f81-4f337c1629dd/lib/python3.11/site-packages (from openai) (0.28.1)\n",
      "Requirement already satisfied: jiter<1,>=0.4.0 in /local_disk0/.ephemeral_nfs/envs/pythonEnv-4e891fe8-18c3-43a6-8f81-4f337c1629dd/lib/python3.11/site-packages (from openai) (0.10.0)\n",
      "Requirement already satisfied: pydantic<3,>=1.9.0 in /databricks/python3/lib/python3.11/site-packages (from openai) (1.10.6)\n",
      "Requirement already satisfied: sniffio in /local_disk0/.ephemeral_nfs/envs/pythonEnv-4e891fe8-18c3-43a6-8f81-4f337c1629dd/lib/python3.11/site-packages (from openai) (1.3.1)\n",
      "Requirement already satisfied: tqdm>4 in /local_disk0/.ephemeral_nfs/envs/pythonEnv-4e891fe8-18c3-43a6-8f81-4f337c1629dd/lib/python3.11/site-packages (from openai) (4.67.1)\n",
      "Requirement already satisfied: typing-extensions<5,>=4.11 in /local_disk0/.ephemeral_nfs/envs/pythonEnv-4e891fe8-18c3-43a6-8f81-4f337c1629dd/lib/python3.11/site-packages (from openai) (4.14.1)\n",
      "Requirement already satisfied: idna>=2.8 in /databricks/python3/lib/python3.11/site-packages (from anyio<5,>=3.5.0->openai) (3.4)\n",
      "Requirement already satisfied: certifi in /databricks/python3/lib/python3.11/site-packages (from httpx<1,>=0.23.0->openai) (2023.7.22)\n",
      "Requirement already satisfied: httpcore==1.* in /local_disk0/.ephemeral_nfs/envs/pythonEnv-4e891fe8-18c3-43a6-8f81-4f337c1629dd/lib/python3.11/site-packages (from httpx<1,>=0.23.0->openai) (1.0.9)\n",
      "Requirement already satisfied: h11>=0.16 in /local_disk0/.ephemeral_nfs/envs/pythonEnv-4e891fe8-18c3-43a6-8f81-4f337c1629dd/lib/python3.11/site-packages (from httpcore==1.*->httpx<1,>=0.23.0->openai) (0.16.0)\n",
      "\u001b[43mNote: you may need to restart the kernel using %restart_python or dbutils.library.restartPython() to use updated packages.\u001b[0m\n",
      "Requirement already satisfied: aiohttp in /local_disk0/.ephemeral_nfs/envs/pythonEnv-4e891fe8-18c3-43a6-8f81-4f337c1629dd/lib/python3.11/site-packages (3.12.15)\n",
      "Requirement already satisfied: aiohappyeyeballs>=2.5.0 in /local_disk0/.ephemeral_nfs/envs/pythonEnv-4e891fe8-18c3-43a6-8f81-4f337c1629dd/lib/python3.11/site-packages (from aiohttp) (2.6.1)\n",
      "Requirement already satisfied: aiosignal>=1.4.0 in /local_disk0/.ephemeral_nfs/envs/pythonEnv-4e891fe8-18c3-43a6-8f81-4f337c1629dd/lib/python3.11/site-packages (from aiohttp) (1.4.0)\n",
      "Requirement already satisfied: attrs>=17.3.0 in /local_disk0/.ephemeral_nfs/envs/pythonEnv-4e891fe8-18c3-43a6-8f81-4f337c1629dd/lib/python3.11/site-packages (from aiohttp) (25.3.0)\n",
      "Requirement already satisfied: frozenlist>=1.1.1 in /local_disk0/.ephemeral_nfs/envs/pythonEnv-4e891fe8-18c3-43a6-8f81-4f337c1629dd/lib/python3.11/site-packages (from aiohttp) (1.7.0)\n",
      "Requirement already satisfied: multidict<7.0,>=4.5 in /local_disk0/.ephemeral_nfs/envs/pythonEnv-4e891fe8-18c3-43a6-8f81-4f337c1629dd/lib/python3.11/site-packages (from aiohttp) (6.6.4)\n",
      "Requirement already satisfied: propcache>=0.2.0 in /local_disk0/.ephemeral_nfs/envs/pythonEnv-4e891fe8-18c3-43a6-8f81-4f337c1629dd/lib/python3.11/site-packages (from aiohttp) (0.3.2)\n",
      "Requirement already satisfied: yarl<2.0,>=1.17.0 in /local_disk0/.ephemeral_nfs/envs/pythonEnv-4e891fe8-18c3-43a6-8f81-4f337c1629dd/lib/python3.11/site-packages (from aiohttp) (1.20.1)\n",
      "Requirement already satisfied: typing-extensions>=4.2 in /local_disk0/.ephemeral_nfs/envs/pythonEnv-4e891fe8-18c3-43a6-8f81-4f337c1629dd/lib/python3.11/site-packages (from aiosignal>=1.4.0->aiohttp) (4.14.1)\n",
      "Requirement already satisfied: idna>=2.0 in /databricks/python3/lib/python3.11/site-packages (from yarl<2.0,>=1.17.0->aiohttp) (3.4)\n",
      "\u001b[43mNote: you may need to restart the kernel using %restart_python or dbutils.library.restartPython() to use updated packages.\u001b[0m\n",
      "Requirement already satisfied: pymilvus in /local_disk0/.ephemeral_nfs/envs/pythonEnv-4e891fe8-18c3-43a6-8f81-4f337c1629dd/lib/python3.11/site-packages (2.6.0)\n",
      "Requirement already satisfied: setuptools>69 in /databricks/python3/lib/python3.11/site-packages (from pymilvus) (75.1.0)\n",
      "Requirement already satisfied: grpcio!=1.68.0,!=1.68.1,!=1.69.0,!=1.70.0,!=1.70.1,!=1.71.0,!=1.72.1,!=1.73.0,>=1.66.2 in /local_disk0/.ephemeral_nfs/envs/pythonEnv-4e891fe8-18c3-43a6-8f81-4f337c1629dd/lib/python3.11/site-packages (from pymilvus) (1.74.0)\n",
      "Requirement already satisfied: protobuf>=5.27.2 in /databricks/python3/lib/python3.11/site-packages (from pymilvus) (5.29.3)\n",
      "Requirement already satisfied: python-dotenv<2.0.0,>=1.0.1 in /local_disk0/.ephemeral_nfs/envs/pythonEnv-4e891fe8-18c3-43a6-8f81-4f337c1629dd/lib/python3.11/site-packages (from pymilvus) (1.1.1)\n",
      "Requirement already satisfied: ujson>=2.0.0 in /databricks/python3/lib/python3.11/site-packages (from pymilvus) (5.4.0)\n",
      "Requirement already satisfied: pandas>=1.2.4 in /databricks/python3/lib/python3.11/site-packages (from pymilvus) (1.5.3)\n",
      "Requirement already satisfied: milvus-lite>=2.4.0 in /local_disk0/.ephemeral_nfs/envs/pythonEnv-4e891fe8-18c3-43a6-8f81-4f337c1629dd/lib/python3.11/site-packages (from pymilvus) (2.5.1)\n",
      "Requirement already satisfied: tqdm in /local_disk0/.ephemeral_nfs/envs/pythonEnv-4e891fe8-18c3-43a6-8f81-4f337c1629dd/lib/python3.11/site-packages (from milvus-lite>=2.4.0->pymilvus) (4.67.1)\n",
      "Requirement already satisfied: python-dateutil>=2.8.1 in /databricks/python3/lib/python3.11/site-packages (from pandas>=1.2.4->pymilvus) (2.8.2)\n",
      "Requirement already satisfied: pytz>=2020.1 in /databricks/python3/lib/python3.11/site-packages (from pandas>=1.2.4->pymilvus) (2022.7)\n",
      "Requirement already satisfied: numpy>=1.21.0 in /databricks/python3/lib/python3.11/site-packages (from pandas>=1.2.4->pymilvus) (1.23.5)\n",
      "Requirement already satisfied: six>=1.5 in /usr/lib/python3/dist-packages (from python-dateutil>=2.8.1->pandas>=1.2.4->pymilvus) (1.16.0)\n",
      "\u001b[43mNote: you may need to restart the kernel using %restart_python or dbutils.library.restartPython() to use updated packages.\u001b[0m\n",
      "Requirement already satisfied: PyGithub in /local_disk0/.ephemeral_nfs/envs/pythonEnv-4e891fe8-18c3-43a6-8f81-4f337c1629dd/lib/python3.11/site-packages (2.7.0)\n",
      "Requirement already satisfied: pynacl>=1.4.0 in /local_disk0/.ephemeral_nfs/envs/pythonEnv-4e891fe8-18c3-43a6-8f81-4f337c1629dd/lib/python3.11/site-packages (from PyGithub) (1.5.0)\n",
      "Requirement already satisfied: requests>=2.14.0 in /databricks/python3/lib/python3.11/site-packages (from PyGithub) (2.31.0)\n",
      "Requirement already satisfied: pyjwt>=2.4.0 in /local_disk0/.ephemeral_nfs/envs/pythonEnv-4e891fe8-18c3-43a6-8f81-4f337c1629dd/lib/python3.11/site-packages (from pyjwt[crypto]>=2.4.0->PyGithub) (2.10.1)\n",
      "Requirement already satisfied: typing-extensions>=4.5.0 in /local_disk0/.ephemeral_nfs/envs/pythonEnv-4e891fe8-18c3-43a6-8f81-4f337c1629dd/lib/python3.11/site-packages (from PyGithub) (4.14.1)\n",
      "Requirement already satisfied: urllib3>=1.26.0 in /databricks/python3/lib/python3.11/site-packages (from PyGithub) (1.26.16)\n",
      "Requirement already satisfied: cryptography>=3.4.0 in /databricks/python3/lib/python3.11/site-packages (from pyjwt[crypto]>=2.4.0->PyGithub) (41.0.3)\n",
      "Requirement already satisfied: cffi>=1.4.1 in /databricks/python3/lib/python3.11/site-packages (from pynacl>=1.4.0->PyGithub) (1.15.1)\n",
      "Requirement already satisfied: charset-normalizer<4,>=2 in /databricks/python3/lib/python3.11/site-packages (from requests>=2.14.0->PyGithub) (2.0.4)\n",
      "Requirement already satisfied: idna<4,>=2.5 in /databricks/python3/lib/python3.11/site-packages (from requests>=2.14.0->PyGithub) (3.4)\n",
      "Requirement already satisfied: certifi>=2017.4.17 in /databricks/python3/lib/python3.11/site-packages (from requests>=2.14.0->PyGithub) (2023.7.22)\n",
      "Requirement already satisfied: pycparser in /databricks/python3/lib/python3.11/site-packages (from cffi>=1.4.1->pynacl>=1.4.0->PyGithub) (2.21)\n",
      "\u001b[43mNote: you may need to restart the kernel using %restart_python or dbutils.library.restartPython() to use updated packages.\u001b[0m\n",
      "Requirement already satisfied: mmh3 in /local_disk0/.ephemeral_nfs/envs/pythonEnv-4e891fe8-18c3-43a6-8f81-4f337c1629dd/lib/python3.11/site-packages (5.2.0)\n",
      "\u001b[43mNote: you may need to restart the kernel using %restart_python or dbutils.library.restartPython() to use updated packages.\u001b[0m\n"
     ]
    }
   ],
   "source": [
    "%pip install openai\n",
    "%pip install aiohttp\n",
    "%pip install pymilvus\n",
    "%pip install PyGithub\n",
    "%pip install mmh3"
   ]
  },
  {
   "cell_type": "code",
   "execution_count": 0,
   "metadata": {
    "application/vnd.databricks.v1+cell": {
     "cellMetadata": {
      "byteLimit": 2048000,
      "rowLimit": 10000
     },
     "inputWidgets": {},
     "nuid": "3c97ae5e-a2c9-4cf6-8ff4-58d37a775005",
     "showTitle": false,
     "tableResultSettingsMap": {},
     "title": ""
    }
   },
   "outputs": [],
   "source": [
    "%restart_python"
   ]
  },
  {
   "cell_type": "code",
   "execution_count": 0,
   "metadata": {
    "application/vnd.databricks.v1+cell": {
     "cellMetadata": {
      "byteLimit": 2048000,
      "rowLimit": 10000
     },
     "inputWidgets": {},
     "nuid": "3495bb7e-9a0a-4dae-a246-0815bb3d5f1f",
     "showTitle": false,
     "tableResultSettingsMap": {},
     "title": ""
    }
   },
   "outputs": [],
   "source": [
    "import openai\n",
    "from pymilvus import connections, Collection, FieldSchema, CollectionSchema, DataType, utility\n",
    "import numpy as np\n",
    "import logging\n",
    "import uuid\n",
    "import json\n",
    "import httpx\n",
    "import requests\n",
    "from github import Github\n",
    "import mmh3\n",
    "import datetime\n",
    "from typing import List"
   ]
  },
  {
   "cell_type": "code",
   "execution_count": 0,
   "metadata": {
    "application/vnd.databricks.v1+cell": {
     "cellMetadata": {
      "byteLimit": 2048000,
      "rowLimit": 10000
     },
     "inputWidgets": {},
     "nuid": "d7fbe941-7f39-48cf-9b7f-2571cda133f7",
     "showTitle": true,
     "tableResultSettingsMap": {},
     "title": "setup GitHub repo widget"
    }
   },
   "outputs": [],
   "source": [
    "dbutils.widgets.text(\"repo\", \"\", \"GitHub Repo\")\n",
    "repo = dbutils.widgets.get(\"repo\")"
   ]
  },
  {
   "cell_type": "code",
   "execution_count": 0,
   "metadata": {
    "application/vnd.databricks.v1+cell": {
     "cellMetadata": {
      "byteLimit": 2048000,
      "rowLimit": 10000
     },
     "inputWidgets": {},
     "nuid": "f4b3f7c3-151e-4977-9e6b-32edcb4d969f",
     "showTitle": false,
     "tableResultSettingsMap": {},
     "title": ""
    }
   },
   "outputs": [],
   "source": [
    "OPENAI_API_KEY=\"\"\n",
    "GITHUB_PAT=\"\"\n",
    "ZILLIZ_CLOUD_URI=\"\"\n",
    "ZILLIZ_API_KEY=\"\"\n",
    "\n",
    "# OpenAI Model Configuration\n",
    "OPENAI_EMBEDDING_MODEL = \"text-embedding-3-small\"\n",
    "OPENAI_CHAT_MODEL = \"gpt-4.1-mini\"\n",
    "EMBEDDING_DIMENSION = 1536"
   ]
  },
  {
   "cell_type": "code",
   "execution_count": 0,
   "metadata": {
    "application/vnd.databricks.v1+cell": {
     "cellMetadata": {
      "byteLimit": 2048000,
      "rowLimit": 10000
     },
     "inputWidgets": {},
     "nuid": "a33d92a7-b68b-484e-b0fe-d73a6c861d74",
     "showTitle": false,
     "tableResultSettingsMap": {},
     "title": ""
    }
   },
   "outputs": [],
   "source": []
  },
  {
   "cell_type": "code",
   "execution_count": 0,
   "metadata": {
    "application/vnd.databricks.v1+cell": {
     "cellMetadata": {
      "byteLimit": 2048000,
      "rowLimit": 10000
     },
     "inputWidgets": {},
     "nuid": "24abb1e4-1bcc-4909-80f8-f4a6017f4fd8",
     "showTitle": false,
     "tableResultSettingsMap": {},
     "title": ""
    }
   },
   "outputs": [],
   "source": [
    "MILVUS_COLLECTION_NAME = \"github_dense_index\"\n",
    "MILVUS_GITHUB_SPARSE_COLLECTION=\"github_sparse_index\"\n",
    "\n",
    "# Global variables\n",
    "collection = None\n",
    "collection_github_sparse = None\n"
   ]
  },
  {
   "cell_type": "code",
   "execution_count": 0,
   "metadata": {
    "application/vnd.databricks.v1+cell": {
     "cellMetadata": {
      "byteLimit": 2048000,
      "rowLimit": 10000
     },
     "inputWidgets": {},
     "nuid": "152e219e-3e38-43f1-b48d-11f622d8b889",
     "showTitle": false,
     "tableResultSettingsMap": {},
     "title": ""
    }
   },
   "outputs": [],
   "source": [
    "def get_openai_client():\n",
    "    \"\"\"Get OpenAI client with error handling\"\"\"\n",
    "    if client is None:\n",
    "        raise Exception(\"OpenAI API key not configured\")\n",
    "    return client\n"
   ]
  },
  {
   "cell_type": "code",
   "execution_count": 0,
   "metadata": {
    "application/vnd.databricks.v1+cell": {
     "cellMetadata": {
      "byteLimit": 2048000,
      "rowLimit": 10000
     },
     "inputWidgets": {},
     "nuid": "29d97a5e-f2a5-455b-9038-8b29ca205d0a",
     "showTitle": false,
     "tableResultSettingsMap": {},
     "title": ""
    }
   },
   "outputs": [],
   "source": [
    "# Milvus setup\n",
    "def connect_github_dense_collection(collection_name: str):\n",
    "    \"\"\"Connect to a dense vector index collection.\"\"\"\n",
    "\n",
    "    # Check if collection exists\n",
    "    if utility.has_collection(collection_name):\n",
    "        collection = Collection(collection_name)\n",
    "        print(f\"Connected to existing collection: {collection_name}\")\n",
    "        return collection\n",
    "    else:\n",
    "        collection = None\n",
    "        print(f\"Did not find collection in Zilliz: {collection_name}\")\n",
    "    \n",
    "    print(f\"Created new collection: {collection_name}\")\n",
    "    return collection"
   ]
  },
  {
   "cell_type": "code",
   "execution_count": 0,
   "metadata": {
    "application/vnd.databricks.v1+cell": {
     "cellMetadata": {
      "byteLimit": 2048000,
      "rowLimit": 10000
     },
     "inputWidgets": {},
     "nuid": "0a69e8c4-942a-4f2d-be18-599b6b2006a5",
     "showTitle": false,
     "tableResultSettingsMap": {},
     "title": ""
    }
   },
   "outputs": [],
   "source": [
    "def connect_github_sparse_collection(collection_name: str):\n",
    "    \"\"\"Connect to a sparse collection (BM25-like).\"\"\"\n",
    "\n",
    "    if utility.has_collection(collection_name):\n",
    "        col = Collection(collection_name)\n",
    "        print(f\"Connected to existing sparse collection: {collection_name}\")\n",
    "    else:\n",
    "        col = None\n",
    "        print(f\"Did not find sparse collection in Zilliz: {collection_name}\")\n",
    "    return col\n"
   ]
  },
  {
   "cell_type": "code",
   "execution_count": 0,
   "metadata": {
    "application/vnd.databricks.v1+cell": {
     "cellMetadata": {
      "byteLimit": 2048000,
      "rowLimit": 10000
     },
     "inputWidgets": {},
     "nuid": "c22e611a-5d6b-4217-84bc-53c6002ce9f4",
     "showTitle": false,
     "tableResultSettingsMap": {},
     "title": ""
    }
   },
   "outputs": [],
   "source": [
    "if OPENAI_API_KEY:\n",
    "    openai.api_key = OPENAI_API_KEY\n",
    "    # Explicitly create an httpx client without proxies\n",
    "    async_http_client = httpx.AsyncClient()\n",
    "    # async_http_client = httpx.AsyncClient(proxies=None)\n",
    "    client = openai.AsyncOpenAI(api_key=OPENAI_API_KEY, http_client=async_http_client)\n",
    "else:\n",
    "    client = None"
   ]
  },
  {
   "cell_type": "code",
   "execution_count": 0,
   "metadata": {
    "application/vnd.databricks.v1+cell": {
     "cellMetadata": {
      "byteLimit": 2048000,
      "rowLimit": 10000
     },
     "inputWidgets": {},
     "nuid": "36c21ca1-260a-456b-a22d-a3fe4e4b237e",
     "showTitle": false,
     "tableResultSettingsMap": {},
     "title": ""
    }
   },
   "outputs": [
    {
     "name": "stdout",
     "output_type": "stream",
     "text": [
      "Successfully connected to Zilliz Cloud!\n"
     ]
    }
   ],
   "source": [
    "connections.connect(\n",
    "    alias=\"default\",\n",
    "    uri=ZILLIZ_CLOUD_URI,\n",
    "    token=ZILLIZ_API_KEY,\n",
    "    secure=True\n",
    ")\n",
    "print(\"Successfully connected to Zilliz Cloud!\")"
   ]
  },
  {
   "cell_type": "code",
   "execution_count": 0,
   "metadata": {
    "application/vnd.databricks.v1+cell": {
     "cellMetadata": {
      "byteLimit": 2048000,
      "rowLimit": 10000
     },
     "inputWidgets": {},
     "nuid": "0c471efd-803f-45f9-8e89-480b2fb78dcc",
     "showTitle": false,
     "tableResultSettingsMap": {},
     "title": ""
    }
   },
   "outputs": [
    {
     "name": "stdout",
     "output_type": "stream",
     "text": [
      "Connected to existing collection: github_dense_index\n"
     ]
    }
   ],
   "source": [
    "collection = connect_github_dense_collection(MILVUS_COLLECTION_NAME)"
   ]
  },
  {
   "cell_type": "code",
   "execution_count": 0,
   "metadata": {
    "application/vnd.databricks.v1+cell": {
     "cellMetadata": {
      "byteLimit": 2048000,
      "rowLimit": 10000
     },
     "inputWidgets": {},
     "nuid": "d26d61fe-f347-4dfc-a06e-01283c6e3057",
     "showTitle": false,
     "tableResultSettingsMap": {},
     "title": ""
    }
   },
   "outputs": [
    {
     "name": "stdout",
     "output_type": "stream",
     "text": [
      "Connected to existing sparse collection: github_sparse_index\n"
     ]
    }
   ],
   "source": [
    "collection_github_sparse = connect_github_sparse_collection(MILVUS_GITHUB_SPARSE_COLLECTION)"
   ]
  },
  {
   "cell_type": "code",
   "execution_count": 0,
   "metadata": {
    "application/vnd.databricks.v1+cell": {
     "cellMetadata": {
      "byteLimit": 2048000,
      "rowLimit": 10000
     },
     "inputWidgets": {},
     "nuid": "76bc65e6-4330-4f06-bc3e-a2acf5ad699d",
     "showTitle": false,
     "tableResultSettingsMap": {},
     "title": ""
    }
   },
   "outputs": [],
   "source": [
    "async def delete_github_repo(repo_name: str, collection=None, collection_github_sparse=None):\n",
    "    \"\"\"Delete all vector index entries for a given GitHub repo from both dense and sparse vector index collections in Zilliz.\"\"\"\n",
    "    if not repo_name or not '/' in repo_name:\n",
    "        raise Exception(f\"Invalid repo name format. Use 'owner/repo': {repo}\")\n",
    "\n",
    "    repo_name = repo_name.strip()\n",
    "    print(f\"Attempting to delete all entries for repo: {repo_name}\")\n",
    "\n",
    "    # Define the expression to match the repo\n",
    "    expr = f\"repo == '{repo_name}'\"\n",
    "\n",
    "    # Query to check if entries exist before deleting\n",
    "    dense_results = collection.query(expr, output_fields=[\"id\"])\n",
    "    sparse_results = collection_github_sparse.query(expr, output_fields=[\"id\"])\n",
    "\n",
    "    if not dense_results and not sparse_results:\n",
    "        print(f\"Repo '{repo_name}' not found in any vector index.\")\n",
    "        return None\n",
    "\n",
    "    total_deleted = 0\n",
    "    log_list = []\n",
    "    end_time = datetime.datetime.now().isoformat()\n",
    "    table_name = \"tabular.dataexpert.mlivshutz54984_vector_delete_log\"\n",
    "\n",
    "    # Delete from dense collection\n",
    "    if dense_results:\n",
    "        delete_result_dense = collection.delete(expr)\n",
    "        print(f\"Deleted from dense collection '{collection.name}': {delete_result_dense}\")\n",
    "        total_deleted += len(dense_results)\n",
    "        entry = {\n",
    "            \"files_deleted\": total_deleted,\n",
    "            \"vector_index_type\": \"dense\",\n",
    "            \"collection\": collection.name,\n",
    "            \"deleted_at\": end_time,\n",
    "            \"repo\": repo,\n",
    "        }\n",
    "        log_list.append(entry)\n",
    "\n",
    "    # Delete from sparse collection\n",
    "    if sparse_results:\n",
    "        delete_result_sparse = collection_github_sparse.delete(expr)\n",
    "        print(f\"Deleted from sparse collection '{collection_github_sparse.name}': {delete_result_sparse}\")\n",
    "        total_deleted += len(sparse_results)\n",
    "        entry = {\n",
    "            \"files_deleted\": total_deleted,\n",
    "            \"vector_index_type\": \"sparse\",\n",
    "            \"collection\": collection_github_sparse.name,\n",
    "            \"deleted_at\": end_time,\n",
    "            \"repo\": repo,\n",
    "        }\n",
    "        log_list.append(entry)\n",
    "    \n",
    "    # Persist the deletions\n",
    "    collection.flush()\n",
    "    collection_github_sparse.flush()\n",
    "\n",
    "    if len(log_list) > 0:\n",
    "        spark.createDataFrame(log_list).write.mode(\"append\").saveAsTable(table_name)\n",
    "        spark.sql(f\"alter table {table_name} set TBLPROPERTIES (delta.enableChangeDataFeed = true)\")\n",
    "\n",
    "    print(f\"Successfully deleted {total_deleted} entries for repo: {repo_name}\")\n",
    "    return {\"message\": f\"Successfully deleted {total_deleted} entries for repo '{repo_name}'.\", \"deleted_count\": total_deleted}\n",
    "\n"
   ]
  },
  {
   "cell_type": "code",
   "execution_count": 0,
   "metadata": {
    "application/vnd.databricks.v1+cell": {
     "cellMetadata": {
      "byteLimit": 2048000,
      "rowLimit": 10000
     },
     "inputWidgets": {},
     "nuid": "07a2a66b-31cb-43b2-9aa4-e562a3929363",
     "showTitle": false,
     "tableResultSettingsMap": {},
     "title": ""
    }
   },
   "outputs": [
    {
     "name": "stdout",
     "output_type": "stream",
     "text": [
      "Attempting to delete all entries for repo: mlivshutz/GenAI-In-Production-Databricks-FEB\n",
      "Repo 'mlivshutz/GenAI-In-Production-Databricks-FEB' not found in any vector index.\n"
     ]
    }
   ],
   "source": [
    "# Ingest GitHub repo\n",
    "await delete_github_repo(repo, collection, collection_github_sparse)\n"
   ]
  },
  {
   "cell_type": "code",
   "execution_count": 0,
   "metadata": {
    "application/vnd.databricks.v1+cell": {
     "cellMetadata": {},
     "inputWidgets": {},
     "nuid": "182900e3-c83c-40c0-9320-d4d158435707",
     "showTitle": false,
     "tableResultSettingsMap": {},
     "title": ""
    }
   },
   "outputs": [],
   "source": [
    "\n"
   ]
  }
 ],
 "metadata": {
  "application/vnd.databricks.v1+notebook": {
   "computePreferences": {
    "hardware": {
     "accelerator": null,
     "gpuPoolId": null,
     "memory": null
    }
   },
   "dashboards": [],
   "environmentMetadata": {
    "base_environment": "",
    "environment_version": "2"
   },
   "inputWidgetPreferences": null,
   "language": "python",
   "notebookMetadata": {
    "mostRecentlyExecutedCommandWithImplicitDF": {
     "commandId": 7640257831777985,
     "dataframes": [
      "_sqldf"
     ]
    },
    "pythonIndentUnit": 4
   },
   "notebookName": "delete_github_repo_from_zilliz",
   "widgets": {
    "repo": {
     "currentValue": "mlivshutz/GenAI-In-Production-Databricks-FEB",
     "nuid": "aa2fb48d-1f25-4473-93c6-3d2337c12a8f",
     "typedWidgetInfo": {
      "autoCreated": false,
      "defaultValue": "",
      "label": "GitHub Repo",
      "name": "repo",
      "options": {
       "validationRegex": null,
       "widgetDisplayType": "Text"
      },
      "parameterDataType": "String"
     },
     "widgetInfo": {
      "defaultValue": "",
      "label": "GitHub Repo",
      "name": "repo",
      "options": {
       "autoCreated": null,
       "validationRegex": null,
       "widgetType": "text"
      },
      "widgetType": "text"
     }
    }
   }
  },
  "language_info": {
   "name": "python"
  }
 },
 "nbformat": 4,
 "nbformat_minor": 0
}
